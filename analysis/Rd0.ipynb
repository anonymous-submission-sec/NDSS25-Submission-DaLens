{
 "cells": [
  {
   "cell_type": "markdown",
   "metadata": {},
   "source": [
    "**Connect to database**"
   ]
  },
  {
   "cell_type": "code",
   "execution_count": 3,
   "metadata": {},
   "outputs": [
    {
     "data": {
      "text/plain": [
       "['240115-600k', 'admin', 'config', 'local']"
      ]
     },
     "execution_count": 3,
     "metadata": {},
     "output_type": "execute_result"
    }
   ],
   "source": [
    "from pymongo import MongoClient\n",
    "\n",
    "# Connect to the MongoDB server\n",
    "client = MongoClient('mongodb://tower.grove:27017/')\n",
    "\n",
    "client.list_database_names()"
   ]
  },
  {
   "cell_type": "code",
   "execution_count": 4,
   "metadata": {},
   "outputs": [
    {
     "data": {
      "text/plain": [
       "2505128"
      ]
     },
     "execution_count": 4,
     "metadata": {},
     "output_type": "execute_result"
    }
   ],
   "source": [
    "# Choose database and collection\n",
    "db = client['240115-600k']\n",
    "collection = db['rd0']\n",
    "\n",
    "collection.count_documents({})"
   ]
  },
  {
   "cell_type": "code",
   "execution_count": 13,
   "metadata": {},
   "outputs": [
    {
     "name": "stdout",
     "output_type": "stream",
     "text": [
      "1942391\n"
     ]
    }
   ],
   "source": [
    "# Count documents with no SRVFAIL status\n",
    "nosrvfail = collection.count_documents({'responses': {'$not': {'$elemMatch': {'status': 'SRVFAIL'}}}})\n",
    "print(nosrvfail)"
   ]
  },
  {
   "cell_type": "markdown",
   "metadata": {},
   "source": [
    "**Count eligible for RD0 decision, how many respect RD0**"
   ]
  },
  {
   "cell_type": "code",
   "execution_count": 17,
   "metadata": {},
   "outputs": [
    {
     "data": {
      "text/plain": [
       "'ns_1_vp_1'"
      ]
     },
     "execution_count": 17,
     "metadata": {},
     "output_type": "execute_result"
    }
   ],
   "source": [
    "ns_agg = db['ns_aggregated']\n",
    "ns_agg.create_index([('ns', 1), ('vp', 1)], unique=True)"
   ]
  },
  {
   "cell_type": "code",
   "execution_count": 18,
   "metadata": {},
   "outputs": [
    {
     "name": "stdout",
     "output_type": "stream",
     "text": [
      "1488853\n",
      "559890\n"
     ]
    }
   ],
   "source": [
    "from lib.basic_measurement import BasicMeasurement\n",
    "\n",
    "nosrvfail = collection.find({'responses': {'$not': {'$elemMatch': {'status': 'SRVFAIL'}}}})\n",
    "\n",
    "satisfy_condition = 0\n",
    "respect_rd0 = 0\n",
    "\n",
    "for doc in nosrvfail:\n",
    "  m = BasicMeasurement(doc)\n",
    "  eligible = m.cs_respects_rd_zero()\n",
    "  satisfy_condition += 1 if eligible else 0\n",
    "  if eligible:\n",
    "    respect_rd0 += 1 if m.respects_rd_zero() else 0\n",
    "    agg = {\n",
    "      'ns': m.get_nameserver(),\n",
    "      'vp': m.get_vantagepoint(),\n",
    "      'rd0': m.respects_rd_zero()\n",
    "    }\n",
    "    ns_agg.insert_one(agg)\n",
    "\n",
    "print(satisfy_condition)\n",
    "print(respect_rd0)\n",
    "\n",
    "# runtime 284 minutes\n",
    "\n",
    "# 1. Count documents with no SRVFAIL status\n",
    "# 2. Iterate over these documents\n",
    "# 3. For each document, create a BasicMeasurement object\n"
   ]
  },
  {
   "cell_type": "code",
   "execution_count": 20,
   "metadata": {},
   "outputs": [
    {
     "data": {
      "text/plain": [
       "559890"
      ]
     },
     "execution_count": 20,
     "metadata": {},
     "output_type": "execute_result"
    }
   ],
   "source": [
    "ns_agg.count_documents({'rd0': True})"
   ]
  },
  {
   "cell_type": "markdown",
   "metadata": {},
   "source": [
    "**Example db query, no projections yet**"
   ]
  },
  {
   "cell_type": "code",
   "execution_count": 14,
   "metadata": {},
   "outputs": [],
   "source": [
    "num_logentries_gte = lambda x: {'$expr': {'$gte': [{'$size': '$logentries'}, x]}}\n",
    "random_subdomains = lambda x: {'queries': {'$elemMatch': {'random_subdomains': x}}}\n",
    "at_least_num_status = lambda s, num: {'$expr': \n",
    "                                 {'$gte': [\n",
    "                                   {'$size': \n",
    "                                    {'$filter': \n",
    "                                     {'input': '$responses', 'as': 'r', 'cond': {'$eq': ['$$r.status', s]}}}\n",
    "                                    },\n",
    "                                  num]}\n",
    "                                }"
   ]
  },
  {
   "cell_type": "code",
   "execution_count": 15,
   "metadata": {},
   "outputs": [
    {
     "data": {
      "text/plain": [
       "2108665"
      ]
     },
     "execution_count": 15,
     "metadata": {},
     "output_type": "execute_result"
    }
   ],
   "source": [
    "\n",
    "collection.count_documents(num_logentries_gte(1))\n",
    "\n",
    "collection.count_documents(at_least_num_status('NOERROR', 3))"
   ]
  }
 ],
 "metadata": {
  "kernelspec": {
   "display_name": ".venv",
   "language": "python",
   "name": "python3"
  },
  "language_info": {
   "codemirror_mode": {
    "name": "ipython",
    "version": 3
   },
   "file_extension": ".py",
   "mimetype": "text/x-python",
   "name": "python",
   "nbconvert_exporter": "python",
   "pygments_lexer": "ipython3",
   "version": "3.11.5"
  }
 },
 "nbformat": 4,
 "nbformat_minor": 2
}
