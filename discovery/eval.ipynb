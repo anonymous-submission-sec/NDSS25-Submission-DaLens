{
 "cells": [
  {
   "cell_type": "code",
   "execution_count": 1,
   "metadata": {},
   "outputs": [],
   "source": [
    "import csv"
   ]
  },
  {
   "cell_type": "code",
   "execution_count": 4,
   "metadata": {},
   "outputs": [],
   "source": [
    "\n",
    "\n",
    "def resolver_set(source):\n",
    "  s = set()\n",
    "  with open(source, \"r\") as f:\n",
    "    reader = csv.DictReader(f)\n",
    "    for row in reader:\n",
    "      s.add(row['ns0'])\n",
    "  return s\n"
   ]
  },
  {
   "cell_type": "code",
   "execution_count": 5,
   "metadata": {},
   "outputs": [],
   "source": [
    "\n",
    "source1 = \"data/2023-12-07_resolvers.csv\"\n",
    "source2 = \"data/2024-01-05_resolvers.csv\"\n",
    "\n",
    "set1 = resolver_set(source1)\n",
    "set2 = resolver_set(source2)"
   ]
  },
  {
   "cell_type": "code",
   "execution_count": 6,
   "metadata": {},
   "outputs": [],
   "source": [
    "intersection = set1.intersection(set2)\n",
    "union = set1.union(set2)"
   ]
  },
  {
   "cell_type": "code",
   "execution_count": 8,
   "metadata": {},
   "outputs": [
    {
     "name": "stdout",
     "output_type": "stream",
     "text": [
      "Set 1:  1135384\n",
      "Set 2:  1292563\n",
      "Intersection:  626282\n",
      "Union:  1801665\n"
     ]
    }
   ],
   "source": [
    "print(\"Set 1: \", len(set1))\n",
    "print(\"Set 2: \", len(set2))\n",
    "print(\"Intersection: \", len(intersection))\n",
    "print(\"Union: \", len(union))\n",
    "print(\"Percent still online in set 2: \", len(intersection) / len(set1) * 100)"
   ]
  }
 ],
 "metadata": {
  "kernelspec": {
   "display_name": ".venv",
   "language": "python",
   "name": "python3"
  },
  "language_info": {
   "codemirror_mode": {
    "name": "ipython",
    "version": 3
   },
   "file_extension": ".py",
   "mimetype": "text/x-python",
   "name": "python",
   "nbconvert_exporter": "python",
   "pygments_lexer": "ipython3",
   "version": "3.11.5"
  }
 },
 "nbformat": 4,
 "nbformat_minor": 2
}
